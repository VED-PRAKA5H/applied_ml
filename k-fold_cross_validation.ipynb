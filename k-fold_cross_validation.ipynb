{
 "cells": [
  {
   "cell_type": "markdown",
   "id": "b7a7b92c-31ca-46a7-809f-37bc8d5deb46",
   "metadata": {},
   "source": [
    "# Python Implementation of K- Fold\n",
    "Let's create a Python code using the scikit-learn library to perform K-fold crossvalidation on a house price dataset.\\\n",
    "We'll use the California housing dataset,\n",
    "which is available in scikit-learn\\\n",
    "**Objective**: The objective of this code is to evaluate the performance of different\n",
    "regression models (Linear Regression, Multiple Linear Regression, Random Forest\n",
    "Regression, and Decision Tree Regression) on the California housing dataset\n",
    "using K-fold cross-validation."
   ]
  },
  {
   "cell_type": "markdown",
   "id": "875ac991-ef07-431f-9bd4-bef1e3ea22ed",
   "metadata": {},
   "source": [
    "## Step 1: Importing the necessary libraries"
   ]
  },
  {
   "cell_type": "code",
   "execution_count": 5,
   "id": "9c296095-cbdd-40ed-b24b-a08dee141724",
   "metadata": {},
   "outputs": [],
   "source": [
    "from sklearn.datasets import fetch_california_housing\n",
    "from sklearn.model_selection import KFold\n",
    "from sklearn.linear_model import LinearRegression\n",
    "from sklearn.ensemble import RandomForestRegressor\n",
    "from sklearn.tree import DecisionTreeRegressor\n",
    "from sklearn.metrics import mean_squared_error\n",
    "import numpy as np\n",
    "import pandas as pd"
   ]
  },
  {
   "cell_type": "markdown",
   "id": "1e3165f8-7e19-4ff8-9655-b60bb941af6a",
   "metadata": {},
   "source": [
    "## Step 2: Load the housing dataset"
   ]
  },
  {
   "cell_type": "code",
   "execution_count": 3,
   "id": "5e82f963-3c2c-46e4-acf2-e580980ab7c2",
   "metadata": {},
   "outputs": [],
   "source": [
    "df = pd.read_csv('housing.csv')"
   ]
  },
  {
   "cell_type": "code",
   "execution_count": 6,
   "id": "c848c7b6-0db8-48d5-8353-f47e7a8b710e",
   "metadata": {},
   "outputs": [],
   "source": [
    "california_housing = fetch_california_housing()\n",
    "X = california_housing.data\n",
    "y = california_housing.target"
   ]
  },
  {
   "cell_type": "code",
   "execution_count": 14,
   "id": "d5cf8984-3b4d-426c-b5e2-06ecf071138d",
   "metadata": {},
   "outputs": [
    {
     "data": {
      "text/html": [
       "<div>\n",
       "<style scoped>\n",
       "    .dataframe tbody tr th:only-of-type {\n",
       "        vertical-align: middle;\n",
       "    }\n",
       "\n",
       "    .dataframe tbody tr th {\n",
       "        vertical-align: top;\n",
       "    }\n",
       "\n",
       "    .dataframe thead th {\n",
       "        text-align: right;\n",
       "    }\n",
       "</style>\n",
       "<table border=\"1\" class=\"dataframe\">\n",
       "  <thead>\n",
       "    <tr style=\"text-align: right;\">\n",
       "      <th></th>\n",
       "      <th>longitude</th>\n",
       "      <th>latitude</th>\n",
       "      <th>housing_median_age</th>\n",
       "      <th>total_rooms</th>\n",
       "      <th>total_bedrooms</th>\n",
       "      <th>population</th>\n",
       "      <th>households</th>\n",
       "      <th>median_income</th>\n",
       "      <th>median_house_value</th>\n",
       "      <th>ocean_proximity</th>\n",
       "    </tr>\n",
       "  </thead>\n",
       "  <tbody>\n",
       "    <tr>\n",
       "      <th>0</th>\n",
       "      <td>-122.23</td>\n",
       "      <td>37.88</td>\n",
       "      <td>41.0</td>\n",
       "      <td>880.0</td>\n",
       "      <td>129.0</td>\n",
       "      <td>322.0</td>\n",
       "      <td>126.0</td>\n",
       "      <td>8.3252</td>\n",
       "      <td>452600.0</td>\n",
       "      <td>NEAR BAY</td>\n",
       "    </tr>\n",
       "    <tr>\n",
       "      <th>1</th>\n",
       "      <td>-122.22</td>\n",
       "      <td>37.86</td>\n",
       "      <td>21.0</td>\n",
       "      <td>7099.0</td>\n",
       "      <td>1106.0</td>\n",
       "      <td>2401.0</td>\n",
       "      <td>1138.0</td>\n",
       "      <td>8.3014</td>\n",
       "      <td>358500.0</td>\n",
       "      <td>NEAR BAY</td>\n",
       "    </tr>\n",
       "    <tr>\n",
       "      <th>2</th>\n",
       "      <td>-122.24</td>\n",
       "      <td>37.85</td>\n",
       "      <td>52.0</td>\n",
       "      <td>1467.0</td>\n",
       "      <td>190.0</td>\n",
       "      <td>496.0</td>\n",
       "      <td>177.0</td>\n",
       "      <td>7.2574</td>\n",
       "      <td>352100.0</td>\n",
       "      <td>NEAR BAY</td>\n",
       "    </tr>\n",
       "    <tr>\n",
       "      <th>3</th>\n",
       "      <td>-122.25</td>\n",
       "      <td>37.85</td>\n",
       "      <td>52.0</td>\n",
       "      <td>1274.0</td>\n",
       "      <td>235.0</td>\n",
       "      <td>558.0</td>\n",
       "      <td>219.0</td>\n",
       "      <td>5.6431</td>\n",
       "      <td>341300.0</td>\n",
       "      <td>NEAR BAY</td>\n",
       "    </tr>\n",
       "    <tr>\n",
       "      <th>4</th>\n",
       "      <td>-122.25</td>\n",
       "      <td>37.85</td>\n",
       "      <td>52.0</td>\n",
       "      <td>1627.0</td>\n",
       "      <td>280.0</td>\n",
       "      <td>565.0</td>\n",
       "      <td>259.0</td>\n",
       "      <td>3.8462</td>\n",
       "      <td>342200.0</td>\n",
       "      <td>NEAR BAY</td>\n",
       "    </tr>\n",
       "  </tbody>\n",
       "</table>\n",
       "</div>"
      ],
      "text/plain": [
       "   longitude  latitude  housing_median_age  total_rooms  total_bedrooms  \\\n",
       "0    -122.23     37.88                41.0        880.0           129.0   \n",
       "1    -122.22     37.86                21.0       7099.0          1106.0   \n",
       "2    -122.24     37.85                52.0       1467.0           190.0   \n",
       "3    -122.25     37.85                52.0       1274.0           235.0   \n",
       "4    -122.25     37.85                52.0       1627.0           280.0   \n",
       "\n",
       "   population  households  median_income  median_house_value ocean_proximity  \n",
       "0       322.0       126.0         8.3252            452600.0        NEAR BAY  \n",
       "1      2401.0      1138.0         8.3014            358500.0        NEAR BAY  \n",
       "2       496.0       177.0         7.2574            352100.0        NEAR BAY  \n",
       "3       558.0       219.0         5.6431            341300.0        NEAR BAY  \n",
       "4       565.0       259.0         3.8462            342200.0        NEAR BAY  "
      ]
     },
     "execution_count": 14,
     "metadata": {},
     "output_type": "execute_result"
    }
   ],
   "source": [
    "df.head()"
   ]
  },
  {
   "cell_type": "code",
   "execution_count": 18,
   "id": "8669fb47-d049-4710-a50f-9846a33438aa",
   "metadata": {},
   "outputs": [
    {
     "data": {
      "text/plain": [
       "longitude               0\n",
       "latitude                0\n",
       "housing_median_age      0\n",
       "total_rooms             0\n",
       "total_bedrooms        207\n",
       "population              0\n",
       "households              0\n",
       "median_income           0\n",
       "median_house_value      0\n",
       "ocean_proximity         0\n",
       "dtype: int64"
      ]
     },
     "execution_count": 18,
     "metadata": {},
     "output_type": "execute_result"
    }
   ],
   "source": [
    "df.isna().sum()"
   ]
  },
  {
   "cell_type": "code",
   "execution_count": 19,
   "id": "2871ba43-3b75-457d-8a74-792b9cec315e",
   "metadata": {},
   "outputs": [],
   "source": [
    "df.dropna(inplace = True)"
   ]
  },
  {
   "cell_type": "code",
   "execution_count": 20,
   "id": "fd310f5b-f628-4114-91b8-a04c1a15d9af",
   "metadata": {},
   "outputs": [],
   "source": [
    "X = df.iloc[:,2:-2].values\n",
    "y = df.iloc[:,-2].values"
   ]
  },
  {
   "cell_type": "markdown",
   "id": "81cb855b-a4c5-4170-9175-13e3c3629c6e",
   "metadata": {},
   "source": [
    "## Step 3: Initialize KFold with 5 folds"
   ]
  },
  {
   "cell_type": "code",
   "execution_count": 21,
   "id": "07beb8c5-f6a7-489a-b7f8-7b92a3e6778e",
   "metadata": {},
   "outputs": [],
   "source": [
    "k = 5\n",
    "kf = KFold(n_splits=k, shuffle=True, random_state=42)\n",
    "# Initialize lists to store MSE for each fold\n",
    "mse_scores_lr = []\n",
    "mse_scores_mlr = []\n",
    "mse_scores_rf = []\n",
    "mse_scores_dt = []"
   ]
  },
  {
   "cell_type": "markdown",
   "id": "4da69816-6366-40fa-bf9d-64a1909fcc60",
   "metadata": {},
   "source": [
    "## Step 4: Model Training and Evaluation"
   ]
  },
  {
   "cell_type": "markdown",
   "id": "18842a4d-1a7f-4ca4-8952-339cb6404919",
   "metadata": {},
   "source": [
    "### Iterate over each fold"
   ]
  },
  {
   "cell_type": "code",
   "execution_count": 22,
   "id": "f8c99403-110a-4361-a532-61d40d7c42ec",
   "metadata": {},
   "outputs": [],
   "source": [
    "for train_index, test_index in kf.split(X):\n",
    " # Split data into train and test sets\n",
    "    X_train, X_test = X[train_index], X[test_index]\n",
    "    y_train, y_test = y[train_index], y[test_index]\n",
    "\n",
    "    # Linear Regression\n",
    "    model_lr = LinearRegression()\n",
    "    model_lr.fit(X_train, y_train)\n",
    "    y_pred_lr = model_lr.predict(X_test)\n",
    "    mse_lr = mean_squared_error(y_test, y_pred_lr)\n",
    "    mse_scores_lr.append(mse_lr)\n",
    "\n",
    "    # Multiple Linear Regression\n",
    "    model_mlr = LinearRegression()\n",
    "    model_mlr.fit(X_train, y_train)\n",
    "    y_pred_mlr = model_mlr.predict(X_test)\n",
    "    mse_mlr = mean_squared_error(y_test, y_pred_mlr)\n",
    "    mse_scores_mlr.append(mse_mlr)\n",
    "    \n",
    "    # Random Forest Regression\n",
    "    model_rf = RandomForestRegressor(n_estimators=100,\n",
    "    random_state=42) # You can adjust n_estimators and other hyperparameters\n",
    "    model_rf.fit(X_train, y_train)\n",
    "    y_pred_rf = model_rf.predict(X_test)\n",
    "    mse_rf = mean_squared_error(y_test, y_pred_rf)\n",
    "    mse_scores_rf.append(mse_rf)\n",
    "    \n",
    "    # Decision Tree Regression\n",
    "    model_dt = DecisionTreeRegressor(random_state=42) # You can adjust other hyperparameters\n",
    "    model_dt.fit(X_train, y_train)\n",
    "    y_pred_dt = model_dt.predict(X_test)\n",
    "    mse_dt = mean_squared_error(y_test, y_pred_dt)\n",
    "    mse_scores_dt.append(mse_dt)\n",
    "    "
   ]
  },
  {
   "cell_type": "markdown",
   "id": "df326c5d-4fd4-4635-8711-7a36689ec218",
   "metadata": {},
   "source": [
    "## Calculate the average MSE across all folds for each model"
   ]
  },
  {
   "cell_type": "code",
   "execution_count": 23,
   "id": "5be55d6d-29ed-415d-b6a5-c5a3f583cc1f",
   "metadata": {},
   "outputs": [
    {
     "name": "stdout",
     "output_type": "stream",
     "text": [
      "Linear Regression - Mean Squared Error (MSE) for each fold: [5865619646.959269, 5240470425.3381195, 5877061000.424654, 6192954321.708551, 5794433167.31188]\n",
      "Linear Regression - Average MSE: 5794107712.3484955\n",
      "Multiple Linear Regression - Mean Squared Error (MSE) for each fold: [5865619646.959269, 5240470425.3381195, 5877061000.424654, 6192954321.708551, 5794433167.31188]\n",
      "Multiple Linear Regression - Average MSE: 5794107712.3484955\n",
      "Random Forest Regression - Mean Squared Error (MSE) for each fold: [4484119550.753096, 4260088426.88528, 4569829795.922909, 4470597016.153349, 4523660660.54193]\n",
      "Random Forest Regression - Average MSE: 4461659090.051313\n",
      "Decision Tree Regression - Mean Squared Error (MSE) for each fold: [8466798573.477367, 8542955554.78297, 8900706471.199902, 8511012157.081987, 8561037635.880078]\n",
      "Decision Tree Regression - Average MSE: 8596502078.484463\n"
     ]
    }
   ],
   "source": [
    "average_mse_lr = np.mean(mse_scores_lr)\n",
    "average_mse_mlr = np.mean(mse_scores_mlr)\n",
    "average_mse_rf = np.mean(mse_scores_rf)\n",
    "average_mse_dt = np.mean(mse_scores_dt)\n",
    "print(\"Linear Regression - Mean Squared Error (MSE) for each fold:\", mse_scores_lr)\n",
    "print(\"Linear Regression - Average MSE:\", average_mse_lr)\n",
    "print(\"Multiple Linear Regression - Mean Squared Error (MSE) for each fold:\", mse_scores_mlr)\n",
    "print(\"Multiple Linear Regression - Average MSE:\", average_mse_mlr)\n",
    "print(\"Random Forest Regression - Mean Squared Error (MSE) for each fold:\", mse_scores_rf)\n",
    "print(\"Random Forest Regression - Average MSE:\", average_mse_rf)\n",
    "print(\"Decision Tree Regression - Mean Squared Error (MSE) for each fold:\", mse_scores_dt)\n",
    "print(\"Decision Tree Regression - Average MSE:\", average_mse_dt)"
   ]
  },
  {
   "cell_type": "markdown",
   "id": "bd83c2fd-9b20-4903-9a17-f2e84398ab3a",
   "metadata": {},
   "source": [
    "**Conclusion**\\\n",
    "Therefore, based on these results, we can conclude that Random Forest\n",
    "Regression is the most suitable model for predicting housing prices in the\n",
    "California housing dataset, as it achieves the lowest average MSE among all the\n",
    "models tested.\n"
   ]
  },
  {
   "cell_type": "code",
   "execution_count": null,
   "id": "3db1c77b-35f5-43b5-a321-5d9e82c25a8c",
   "metadata": {},
   "outputs": [],
   "source": []
  }
 ],
 "metadata": {
  "kernelspec": {
   "display_name": "ml",
   "language": "python",
   "name": "ml"
  },
  "language_info": {
   "codemirror_mode": {
    "name": "ipython",
    "version": 3
   },
   "file_extension": ".py",
   "mimetype": "text/x-python",
   "name": "python",
   "nbconvert_exporter": "python",
   "pygments_lexer": "ipython3",
   "version": "3.12.4"
  }
 },
 "nbformat": 4,
 "nbformat_minor": 5
}
