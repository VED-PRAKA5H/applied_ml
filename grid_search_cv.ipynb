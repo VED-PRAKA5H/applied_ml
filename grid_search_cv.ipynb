{
 "cells": [
  {
   "cell_type": "markdown",
   "id": "f8db3868-1b07-4197-aca4-d925be7108fc",
   "metadata": {},
   "source": [
    "# Python Implementation of Grid Search"
   ]
  },
  {
   "cell_type": "markdown",
   "id": "6100e478-93be-49f3-ba05-354e3c5a3ade",
   "metadata": {},
   "source": [
    "## Step 1. Import Required Libraries:"
   ]
  },
  {
   "cell_type": "code",
   "execution_count": null,
   "id": "478499df-4349-450d-8336-906b5cbd5d62",
   "metadata": {},
   "outputs": [],
   "source": [
    "from sklearn.model_selection import GridSearchCV\n",
    "from sklearn.tree import DecisionTreeClassifier\n",
    "from sklearn.datasets import load_iris\n",
    "from sklearn.model_selection import train_test_split"
   ]
  },
  {
   "cell_type": "markdown",
   "id": "1e3ea7e7-4074-4fe7-b1dd-ed01040b8718",
   "metadata": {},
   "source": [
    "## Step 2. Load and Split Dataset:"
   ]
  },
  {
   "cell_type": "code",
   "execution_count": null,
   "id": "86331879-455d-4ab2-93cc-ecd9d6001832",
   "metadata": {},
   "outputs": [],
   "source": [
    "# Load the iris dataset\n",
    "iris = load_iris()\n",
    "X = iris.data\n",
    "y = iris.target\n",
    "# Split the data into training and testing sets\n",
    "X_train, X_test, y_train, y_test = train_test_split(X, y,\n",
    "test_size=0.2, random_state=42)"
   ]
  },
  {
   "cell_type": "markdown",
   "id": "063d7cd8-abd8-4610-876e-0a5cd902b1d2",
   "metadata": {},
   "source": [
    "## Step 3. Define Parameter Grid:"
   ]
  },
  {
   "cell_type": "markdown",
   "id": "50315bee-9af3-4eff-b9f0-5fba91b5662d",
   "metadata": {},
   "source": [
    "## Step 4. Create Decision Tree Classifier:"
   ]
  },
  {
   "cell_type": "code",
   "execution_count": null,
   "id": "1d8668fd-6982-47b7-9d35-a078259192b5",
   "metadata": {},
   "outputs": [],
   "source": [
    "# Define the parameter grid to search\n",
    "param_grid = {'max_depth': [None, 5, 10, 15]}\n",
    "# Create the Decision Tree classifier\n",
    "dt = DecisionTreeClassifier()\n",
    "# Create the GridSearchCV object\n",
    "grid_search = GridSearchCV(dt, param_grid, cv=5)\n",
    "# Fit the model to the training data to search for the best\n",
    "parameters\n",
    "grid_search.fit(X_train, y_train)\n",
    "# Print the best parameters found\n",
    "print(\"Best parameters:\", grid_search.best_params_)\n",
    "# Evaluate the model on the test data\n",
    "accuracy = grid_search.score(X_test, y_test)\n",
    "print(\"Accuracy on test set:\", accuracy)\n",
    "Output\n",
    "Best parameters: {'max_depth': 10}\n",
    "Accuracy on test set: 1.0"
   ]
  },
  {
   "cell_type": "code",
   "execution_count": null,
   "id": "d85e25cf-aaef-4b15-b8eb-8d6f4bab9a45",
   "metadata": {},
   "outputs": [],
   "source": [
    "5. Create GridSearchCV Object:\n",
    "• We create a GridSearchCV object grid_search, which takes the Decision\n",
    "Tree classifier dt, parameter grid param_grid, and cross-validation value\n",
    "cv=5 as inputs. Here, cv=5 specifies 5-fold cross-validation.\n",
    "6. Fit Model to Training Data:\n",
    "• We fit the GridSearchCV object to the training data (X_train and y_train)\n",
    "using the fit() method. This process searches through the parameter grid\n",
    "and trains the Decision Tree classifier with different values of max_depth.\n",
    "7. Print Best Parameters:\n",
    "• We print the best parameters found by grid search using the\n",
    "best_params_ attribute of the GridSearchCV object.\n",
    "8. Evaluate Model:\n",
    "• We evaluate the trained model on the test data (X_test and y_test) using\n",
    "the score() method of the GridSearchCV object, which calculates the\n",
    "accuracy of the model on the test set.\n",
    "9. Print Accuracy:\n",
    "• Finally, we print the accuracy of the model on the test set, indicating its\n",
    "performance on unseen data."
   ]
  },
  {
   "cell_type": "markdown",
   "id": "dda58e40-bdc3-4656-a9ad-4b6988ff1536",
   "metadata": {},
   "source": [
    "**Conclusion of the Output**\n",
    "The output indicates the results of running the grid search with the provided\n",
    "code:\\\n",
    "* Best Parameters: The grid search determined that the best value for the\n",
    "max_depth parameter of the Decision Tree classifier is 10. This means that,\n",
    "among the values [None, 5, 10, 15] specified in the parameter grid, a\n",
    "max_depth of 10 yielded the highest performance on the validation sets\n",
    "during cross-validation.\n",
    "* Accuracy on Test Set: After training the Decision Tree classifier with the best\n",
    "parameters found during grid search, the model achieved a perfect accuracy\n",
    "of 1.0 (or 100%) on the test set. This means that the model correctly classified\n",
    "all instances in the test set, demonstrating excellent performance and\n",
    "generalization ability."
   ]
  },
  {
   "cell_type": "code",
   "execution_count": null,
   "id": "bcda7fc2-410d-4ad5-880e-a219a456650d",
   "metadata": {},
   "outputs": [],
   "source": []
  }
 ],
 "metadata": {
  "kernelspec": {
   "display_name": "ml",
   "language": "python",
   "name": "ml"
  },
  "language_info": {
   "codemirror_mode": {
    "name": "ipython",
    "version": 3
   },
   "file_extension": ".py",
   "mimetype": "text/x-python",
   "name": "python",
   "nbconvert_exporter": "python",
   "pygments_lexer": "ipython3",
   "version": "3.12.4"
  }
 },
 "nbformat": 4,
 "nbformat_minor": 5
}
